{
 "cells": [
  {
   "cell_type": "code",
   "execution_count": 2,
   "metadata": {},
   "outputs": [
    {
     "name": "stdout",
     "output_type": "stream",
     "text": [
      "Defaulting to user installation because normal site-packages is not writeable\n",
      "Collecting PyPDF2\n",
      "  Downloading pypdf2-3.0.1-py3-none-any.whl.metadata (6.8 kB)\n",
      "Requirement already satisfied: pyttsx3 in c:\\users\\roopam\\appdata\\roaming\\python\\python312\\site-packages (2.98)\n",
      "Collecting textblob\n",
      "  Downloading textblob-0.19.0-py3-none-any.whl.metadata (4.4 kB)\n",
      "Requirement already satisfied: comtypes in c:\\users\\roopam\\appdata\\roaming\\python\\python312\\site-packages (from pyttsx3) (1.4.9)\n",
      "Requirement already satisfied: pypiwin32 in c:\\users\\roopam\\appdata\\roaming\\python\\python312\\site-packages (from pyttsx3) (223)\n",
      "Requirement already satisfied: pywin32 in c:\\new folder\\lib\\site-packages (from pyttsx3) (305.1)\n",
      "Requirement already satisfied: nltk>=3.9 in c:\\new folder\\lib\\site-packages (from textblob) (3.9.1)\n",
      "Requirement already satisfied: click in c:\\new folder\\lib\\site-packages (from nltk>=3.9->textblob) (8.1.7)\n",
      "Requirement already satisfied: joblib in c:\\new folder\\lib\\site-packages (from nltk>=3.9->textblob) (1.4.2)\n",
      "Requirement already satisfied: regex>=2021.8.3 in c:\\new folder\\lib\\site-packages (from nltk>=3.9->textblob) (2024.9.11)\n",
      "Requirement already satisfied: tqdm in c:\\new folder\\lib\\site-packages (from nltk>=3.9->textblob) (4.66.5)\n",
      "Requirement already satisfied: colorama in c:\\new folder\\lib\\site-packages (from click->nltk>=3.9->textblob) (0.4.6)\n",
      "Downloading pypdf2-3.0.1-py3-none-any.whl (232 kB)\n",
      "Downloading textblob-0.19.0-py3-none-any.whl (624 kB)\n",
      "   ---------------------------------------- 0.0/624.3 kB ? eta -:--:--\n",
      "   ---------------------------------------- 624.3/624.3 kB 7.7 MB/s eta 0:00:00\n",
      "Installing collected packages: PyPDF2, textblob\n",
      "Successfully installed PyPDF2-3.0.1 textblob-0.19.0\n"
     ]
    },
    {
     "name": "stderr",
     "output_type": "stream",
     "text": [
      "\n",
      "[notice] A new release of pip is available: 24.3.1 -> 25.2\n",
      "[notice] To update, run: python.exe -m pip install --upgrade pip\n"
     ]
    }
   ],
   "source": [
    "!pip install PyPDF2 pyttsx3 textblob\n",
    "\n"
   ]
  },
  {
   "cell_type": "code",
   "execution_count": 9,
   "metadata": {},
   "outputs": [
    {
     "name": "stderr",
     "output_type": "stream",
     "text": [
      "[nltk_data] Downloading package brown to\n",
      "[nltk_data]     C:\\Users\\ROOPAM\\AppData\\Roaming\\nltk_data...\n",
      "[nltk_data]   Unzipping corpora\\brown.zip.\n",
      "[nltk_data] Downloading package punkt_tab to\n",
      "[nltk_data]     C:\\Users\\ROOPAM\\AppData\\Roaming\\nltk_data...\n",
      "[nltk_data]   Unzipping tokenizers\\punkt_tab.zip.\n",
      "[nltk_data] Downloading package wordnet to\n",
      "[nltk_data]     C:\\Users\\ROOPAM\\AppData\\Roaming\\nltk_data...\n",
      "[nltk_data] Downloading package averaged_perceptron_tagger_eng to\n",
      "[nltk_data]     C:\\Users\\ROOPAM\\AppData\\Roaming\\nltk_data...\n",
      "[nltk_data]   Unzipping taggers\\averaged_perceptron_tagger_eng.zip.\n",
      "[nltk_data] Downloading package conll2000 to\n",
      "[nltk_data]     C:\\Users\\ROOPAM\\AppData\\Roaming\\nltk_data...\n",
      "[nltk_data]   Unzipping corpora\\conll2000.zip.\n",
      "[nltk_data] Downloading package movie_reviews to\n",
      "[nltk_data]     C:\\Users\\ROOPAM\\AppData\\Roaming\\nltk_data...\n",
      "[nltk_data]   Unzipping corpora\\movie_reviews.zip.\n"
     ]
    }
   ],
   "source": [
    "from textblob import download_corpora\n",
    "download_corpora.download_all()"
   ]
  },
  {
   "cell_type": "code",
   "execution_count": 14,
   "metadata": {},
   "outputs": [
    {
     "name": "stdout",
     "output_type": "stream",
     "text": [
      "Detected tone: neutral\n"
     ]
    }
   ],
   "source": [
    "#PDF Listener: Text -to-Audio Reader with Emotion Tuning\n",
    "\n",
    "import PyPDF2\n",
    "from textblob import TextBlob\n",
    "import pyttsx3\n",
    "\n",
    "#Function to extract text from pdf\n",
    "def extract_text_from_pdf(pdf_path):\n",
    "    text = \"\"\n",
    "    reader = PyPDF2.PdfReader(pdf_path)\n",
    "    for page in reader.pages:\n",
    "       page_text = page.extract_text()\n",
    "    if page_text:\n",
    "        text +=page_text\n",
    "    return text\n",
    "\n",
    "#Function to detect emotion from text using polarity\n",
    "def detect_emotion(text):\n",
    "    blob = TextBlob(text)\n",
    "    polarity = blob.sentiment.polarity\n",
    "    if polarity > 0.3:\n",
    "        return 'happy'\n",
    "    elif polarity <-0.3:\n",
    "        return 'sad'\n",
    "    else:\n",
    "        return 'neutral'\n",
    "\n",
    "# Function to convert text to speech with tone tuning\n",
    "\n",
    "def text_to_speech(text, tone='neutral'):\n",
    "    engine = pyttsx3.init()\n",
    "    voices= engine.getProperty('voices')\n",
    "    engine.setProperty('voice',voices[0].id)  #Default voice\n",
    "\n",
    "    if tone =='happy':\n",
    "        engine.setProperty('rate',180)\n",
    "        engine.setProperty('volume',1.0)\n",
    "\n",
    "    elif tone =='sad':\n",
    "        engine.setProperty('rate', 120)\n",
    "        engine.setProperty('volume',0.6)\n",
    "\n",
    "    else:\n",
    "        engine.setProperty('rate',150)\n",
    "        engine.setProperty('volume',0.8)\n",
    "\n",
    "    engine.say(text)\n",
    "    engine.runAndWait()\n",
    "\n",
    "#Main Execution\n",
    "\n",
    "if __name__ == \"__main__\":\n",
    "    pdf_path = r\"C:\\\\Users\\\\ROOPAM\\\\Documents\\\\Python_Program\\\\Moments_of_life.pdf\"\n",
    "    extracted_text = extract_text_from_pdf(pdf_path)\n",
    "    tone = detect_emotion(extracted_text)\n",
    "    print(f\"Detected tone: {tone}\")\n",
    "    text_to_speech(extracted_text,tone)\n"
   ]
  },
  {
   "cell_type": "code",
   "execution_count": null,
   "metadata": {},
   "outputs": [],
   "source": []
  },
  {
   "cell_type": "code",
   "execution_count": null,
   "metadata": {},
   "outputs": [],
   "source": []
  }
 ],
 "metadata": {
  "kernelspec": {
   "display_name": "Python 3 (ipykernel)",
   "language": "python",
   "name": "python3"
  },
  "language_info": {
   "codemirror_mode": {
    "name": "ipython",
    "version": 3
   },
   "file_extension": ".py",
   "mimetype": "text/x-python",
   "name": "python",
   "nbconvert_exporter": "python",
   "pygments_lexer": "ipython3",
   "version": "3.12.7"
  }
 },
 "nbformat": 4,
 "nbformat_minor": 4
}
